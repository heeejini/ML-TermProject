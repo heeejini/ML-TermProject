{
 "cells": [
  {
   "cell_type": "code",
   "execution_count": 1,
   "id": "d284a305",
   "metadata": {},
   "outputs": [
    {
     "name": "stderr",
     "output_type": "stream",
     "text": [
      "/home/ec2-user/anaconda3/envs/python3/lib/python3.10/site-packages/pandas/core/computation/expressions.py:21: UserWarning: Pandas requires version '2.8.0' or newer of 'numexpr' (version '2.7.3' currently installed).\n",
      "  from pandas.core.computation.check import NUMEXPR_INSTALLED\n"
     ]
    },
    {
     "name": "stdout",
     "output_type": "stream",
     "text": [
      "sagemaker.config INFO - Not applying SDK defaults from location: /etc/xdg/sagemaker/config.yaml\n",
      "sagemaker.config INFO - Not applying SDK defaults from location: /home/ec2-user/.config/sagemaker/config.yaml\n"
     ]
    }
   ],
   "source": [
    "from sagemaker import get_execution_role\n",
    "import sagemaker\n",
    "from sagemaker.inputs import TrainingInput\n",
    "from sagemaker.estimator import Estimator\n",
    "from sagemaker import KMeans"
   ]
  },
  {
   "cell_type": "code",
   "execution_count": 21,
   "id": "00271e0b",
   "metadata": {},
   "outputs": [],
   "source": [
    "train_input = TrainingInput(s3_data='s3://gcimlteam11/k-means/train/train_k-means_data_new.csv', content_type='text/csv')"
   ]
  },
  {
   "cell_type": "code",
   "execution_count": 2,
   "id": "67c4fda8",
   "metadata": {},
   "outputs": [
    {
     "name": "stderr",
     "output_type": "stream",
     "text": [
      "/home/ec2-user/anaconda3/envs/python3/lib/python3.10/site-packages/fsspec/registry.py:272: UserWarning: Your installed version of s3fs is very old and known to cause\n",
      "severe performance issues, see also https://github.com/dask/dask/issues/10276\n",
      "\n",
      "To fix, you should specify a lower version bound on s3fs, or\n",
      "update the current installation.\n",
      "\n",
      "  warnings.warn(s3_msg)\n"
     ]
    }
   ],
   "source": [
    "s3_data='s3://gcimlteam11/k-means/train/train_k-means_data_new.csv'\n",
    "import pandas as pd\n",
    "s3_data =pd.read_csv(s3_data)\n"
   ]
  },
  {
   "cell_type": "code",
   "execution_count": 3,
   "id": "3171c0b6",
   "metadata": {},
   "outputs": [
    {
     "name": "stdout",
     "output_type": "stream",
     "text": [
      "sagemaker.config INFO - Not applying SDK defaults from location: /etc/xdg/sagemaker/config.yaml\n",
      "sagemaker.config INFO - Not applying SDK defaults from location: /home/ec2-user/.config/sagemaker/config.yaml\n",
      "sagemaker.config INFO - Not applying SDK defaults from location: /etc/xdg/sagemaker/config.yaml\n",
      "sagemaker.config INFO - Not applying SDK defaults from location: /home/ec2-user/.config/sagemaker/config.yaml\n"
     ]
    },
    {
     "name": "stderr",
     "output_type": "stream",
     "text": [
      "train_instance_count has been renamed in sagemaker>=2.\n",
      "See: https://sagemaker.readthedocs.io/en/stable/v2.html for details.\n",
      "train_instance_type has been renamed in sagemaker>=2.\n",
      "See: https://sagemaker.readthedocs.io/en/stable/v2.html for details.\n"
     ]
    },
    {
     "name": "stdout",
     "output_type": "stream",
     "text": [
      "sagemaker.config INFO - Not applying SDK defaults from location: /etc/xdg/sagemaker/config.yaml\n",
      "sagemaker.config INFO - Not applying SDK defaults from location: /home/ec2-user/.config/sagemaker/config.yaml\n"
     ]
    }
   ],
   "source": [
    "# SageMaker 세션 및 역할 설정\n",
    "sagemaker_session = sagemaker.Session()\n",
    "role = get_execution_role()\n",
    "\n",
    "# S3 버킷 및 접두사 정의\n",
    "bucket = 'gcimlteam11'\n",
    "prefix = 'k-means'\n",
    "\n",
    "# 학습 데이터 경로 설정\n",
    "#train_input = TrainingInput(s3_data='s3://gcimlteam11/k-means/train/train_k-means_data_new.csv', content_type='text/csv')\n",
    "train_input=s3_data\n",
    "data_train = train_input \n",
    "data_train = data_train.astype('float32') \n",
    "num_clusters = 5 \n",
    "output_location = 's3://' + bucket + '/model-artifacts'\n",
    "kmeans = KMeans(role=role, \n",
    "               train_instance_count=1, \n",
    "               train_instance_type='ml.c4.xlarge', \n",
    "               output_path=f's3://{bucket}/{prefix}/output', \n",
    "               k=num_clusters)"
   ]
  },
  {
   "cell_type": "code",
   "execution_count": 4,
   "id": "71a2ef28",
   "metadata": {},
   "outputs": [
    {
     "name": "stderr",
     "output_type": "stream",
     "text": [
      "INFO:sagemaker.image_uris:Same images used for training and inference. Defaulting to image scope: inference.\n",
      "INFO:sagemaker.image_uris:Ignoring unnecessary instance type: None.\n",
      "INFO:sagemaker:Creating training-job with name: kmeans-2023-12-05-10-47-06-817\n"
     ]
    },
    {
     "name": "stdout",
     "output_type": "stream",
     "text": [
      "2023-12-05 10:47:07 Starting - Starting the training job...\n",
      "2023-12-05 10:47:22 Starting - Preparing the instances for training.........\n",
      "2023-12-05 10:49:05 Downloading - Downloading input data\n",
      "2023-12-05 10:49:05 Training - Downloading the training image.........\n",
      "2023-12-05 10:50:26 Training - Training image download completed. Training in progress..\u001b[34mDocker entrypoint called with argument(s): train\u001b[0m\n",
      "\u001b[34mRunning default environment configuration script\u001b[0m\n",
      "\u001b[34m[12/05/2023 10:50:32 INFO 139678672475968] Reading default configuration from /opt/amazon/lib/python3.8/site-packages/algorithm/resources/default-input.json: {'init_method': 'random', 'mini_batch_size': '5000', 'epochs': '1', 'extra_center_factor': 'auto', 'local_lloyd_max_iter': '300', 'local_lloyd_tol': '0.0001', 'local_lloyd_init_method': 'kmeans++', 'local_lloyd_num_trials': 'auto', 'half_life_time_size': '0', 'eval_metrics': '[\"msd\"]', 'force_dense': 'true', '_disable_wait_to_read': 'false', '_enable_profiler': 'false', '_kvstore': 'auto', '_log_level': 'info', '_num_gpus': 'auto', '_num_kv_servers': '1', '_num_slices': '1', '_tuning_objective_metric': ''}\u001b[0m\n",
      "\u001b[34m[12/05/2023 10:50:32 INFO 139678672475968] Merging with provided configuration from /opt/ml/input/config/hyperparameters.json: {'feature_dim': '25', 'force_dense': 'True', 'k': '5'}\u001b[0m\n",
      "\u001b[34m[12/05/2023 10:50:32 INFO 139678672475968] Final configuration: {'init_method': 'random', 'mini_batch_size': '5000', 'epochs': '1', 'extra_center_factor': 'auto', 'local_lloyd_max_iter': '300', 'local_lloyd_tol': '0.0001', 'local_lloyd_init_method': 'kmeans++', 'local_lloyd_num_trials': 'auto', 'half_life_time_size': '0', 'eval_metrics': '[\"msd\"]', 'force_dense': 'True', '_disable_wait_to_read': 'false', '_enable_profiler': 'false', '_kvstore': 'auto', '_log_level': 'info', '_num_gpus': 'auto', '_num_kv_servers': '1', '_num_slices': '1', '_tuning_objective_metric': '', 'feature_dim': '25', 'k': '5'}\u001b[0m\n",
      "\u001b[34m/opt/amazon/lib/python3.8/site-packages/mxnet/model.py:97: SyntaxWarning: \"is\" with a literal. Did you mean \"==\"?\n",
      "  if num_device is 1 and 'dist' not in kvstore:\u001b[0m\n",
      "\u001b[34m[12/05/2023 10:50:34 WARNING 139678672475968] Loggers have already been setup.\u001b[0m\n",
      "\u001b[34m[12/05/2023 10:50:34 INFO 139678672475968] Final configuration: {'init_method': 'random', 'mini_batch_size': '5000', 'epochs': '1', 'extra_center_factor': 'auto', 'local_lloyd_max_iter': '300', 'local_lloyd_tol': '0.0001', 'local_lloyd_init_method': 'kmeans++', 'local_lloyd_num_trials': 'auto', 'half_life_time_size': '0', 'eval_metrics': '[\"msd\"]', 'force_dense': 'True', '_disable_wait_to_read': 'false', '_enable_profiler': 'false', '_kvstore': 'auto', '_log_level': 'info', '_num_gpus': 'auto', '_num_kv_servers': '1', '_num_slices': '1', '_tuning_objective_metric': '', 'feature_dim': '25', 'k': '5'}\u001b[0m\n",
      "\u001b[34m[12/05/2023 10:50:34 WARNING 139678672475968] Loggers have already been setup.\u001b[0m\n",
      "\u001b[34mProcess 7 is a worker.\u001b[0m\n",
      "\u001b[34m[12/05/2023 10:50:34 INFO 139678672475968] Using default worker.\u001b[0m\n",
      "\u001b[34m[12/05/2023 10:50:34 INFO 139678672475968] Loaded iterator creator application/x-recordio-protobuf for content type ('application/x-recordio-protobuf', '1.0')\u001b[0m\n",
      "\u001b[34m[12/05/2023 10:50:34 INFO 139678672475968] Create Store: local\u001b[0m\n",
      "\u001b[34m/opt/amazon/python3.8/lib/python3.8/subprocess.py:848: RuntimeWarning: line buffering (buffering=1) isn't supported in binary mode, the default buffer size will be used\n",
      "  self.stdout = io.open(c2pread, 'rb', bufsize)\u001b[0m\n",
      "\u001b[34m[12/05/2023 10:50:34 INFO 139678672475968] nvidia-smi: took 0.030 seconds to run.\u001b[0m\n",
      "\u001b[34m[12/05/2023 10:50:34 INFO 139678672475968] nvidia-smi identified 0 GPUs.\u001b[0m\n",
      "\u001b[34m[12/05/2023 10:50:34 INFO 139678672475968] Number of GPUs being used: 0\u001b[0m\n",
      "\u001b[34m[12/05/2023 10:50:34 INFO 139678672475968] Checkpoint loading and saving are disabled.\u001b[0m\n",
      "\u001b[34m[12/05/2023 10:50:34 INFO 139678672475968] Setting up with params: {'init_method': 'random', 'mini_batch_size': '5000', 'epochs': '1', 'extra_center_factor': 'auto', 'local_lloyd_max_iter': '300', 'local_lloyd_tol': '0.0001', 'local_lloyd_init_method': 'kmeans++', 'local_lloyd_num_trials': 'auto', 'half_life_time_size': '0', 'eval_metrics': '[\"msd\"]', 'force_dense': 'True', '_disable_wait_to_read': 'false', '_enable_profiler': 'false', '_kvstore': 'auto', '_log_level': 'info', '_num_gpus': 'auto', '_num_kv_servers': '1', '_num_slices': '1', '_tuning_objective_metric': '', 'feature_dim': '25', 'k': '5'}\u001b[0m\n",
      "\u001b[34m[12/05/2023 10:50:34 INFO 139678672475968] 'extra_center_factor' was set to 'auto', evaluated to 10.\u001b[0m\n",
      "\u001b[34m[12/05/2023 10:50:34 INFO 139678672475968] Number of GPUs being used: 0\u001b[0m\n",
      "\u001b[34m[12/05/2023 10:50:34 INFO 139678672475968] number of center slices 1\u001b[0m\n",
      "\u001b[34m#metrics {\"StartTime\": 1701773434.5793266, \"EndTime\": 1701773434.5793552, \"Dimensions\": {\"Algorithm\": \"AWS/KMeansWebscale\", \"Host\": \"algo-1\", \"Operation\": \"training\", \"Meta\": \"init_train_data_iter\"}, \"Metrics\": {\"Total Records Seen\": {\"sum\": 5000.0, \"count\": 1, \"min\": 5000, \"max\": 5000}, \"Total Batches Seen\": {\"sum\": 1.0, \"count\": 1, \"min\": 1, \"max\": 1}, \"Max Records Seen Between Resets\": {\"sum\": 5000.0, \"count\": 1, \"min\": 5000, \"max\": 5000}, \"Max Batches Seen Between Resets\": {\"sum\": 1.0, \"count\": 1, \"min\": 1, \"max\": 1}, \"Reset Count\": {\"sum\": 0.0, \"count\": 1, \"min\": 0, \"max\": 0}, \"Number of Records Since Last Reset\": {\"sum\": 5000.0, \"count\": 1, \"min\": 5000, \"max\": 5000}, \"Number of Batches Since Last Reset\": {\"sum\": 1.0, \"count\": 1, \"min\": 1, \"max\": 1}}}\u001b[0m\n",
      "\u001b[34m[2023-12-05 10:50:34.579] [tensorio] [info] epoch_stats={\"data_pipeline\": \"/opt/ml/input/data/train\", \"epoch\": 0, \"duration\": 19, \"num_examples\": 1, \"num_bytes\": 620000}\u001b[0m\n",
      "\u001b[34m[2023-12-05 10:50:34.601] [tensorio] [info] epoch_stats={\"data_pipeline\": \"/opt/ml/input/data/train\", \"epoch\": 1, \"duration\": 21, \"num_examples\": 1, \"num_bytes\": 620000}\u001b[0m\n",
      "\u001b[34m[12/05/2023 10:50:34 INFO 139678672475968] processed a total of 5000 examples\u001b[0m\n",
      "\u001b[34m[12/05/2023 10:50:34 INFO 139678672475968] #progress_metric: host=algo-1, completed 100.0 % of epochs\u001b[0m\n",
      "\u001b[34m#metrics {\"StartTime\": 1701773434.5796978, \"EndTime\": 1701773434.6021755, \"Dimensions\": {\"Algorithm\": \"AWS/KMeansWebscale\", \"Host\": \"algo-1\", \"Operation\": \"training\", \"epoch\": 0, \"Meta\": \"training_data_iter\"}, \"Metrics\": {\"Total Records Seen\": {\"sum\": 10000.0, \"count\": 1, \"min\": 10000, \"max\": 10000}, \"Total Batches Seen\": {\"sum\": 2.0, \"count\": 1, \"min\": 2, \"max\": 2}, \"Max Records Seen Between Resets\": {\"sum\": 5000.0, \"count\": 1, \"min\": 5000, \"max\": 5000}, \"Max Batches Seen Between Resets\": {\"sum\": 1.0, \"count\": 1, \"min\": 1, \"max\": 1}, \"Reset Count\": {\"sum\": 1.0, \"count\": 1, \"min\": 1, \"max\": 1}, \"Number of Records Since Last Reset\": {\"sum\": 5000.0, \"count\": 1, \"min\": 5000, \"max\": 5000}, \"Number of Batches Since Last Reset\": {\"sum\": 1.0, \"count\": 1, \"min\": 1, \"max\": 1}}}\u001b[0m\n",
      "\u001b[34m[12/05/2023 10:50:34 INFO 139678672475968] #throughput_metric: host=algo-1, train throughput=221115.9377504112 records/second\u001b[0m\n",
      "\u001b[34m[12/05/2023 10:50:34 WARNING 139678672475968] wait_for_all_workers will not sync workers since the kv store is not running distributed\u001b[0m\n",
      "\u001b[34m[12/05/2023 10:50:34 INFO 139678672475968] shrinking 50 centers into 5\u001b[0m\n",
      "\u001b[34m[12/05/2023 10:50:34 INFO 139678672475968] local kmeans attempt #0. Current mean square distance 0.377532\u001b[0m\n",
      "\u001b[34m[12/05/2023 10:50:34 INFO 139678672475968] local kmeans attempt #1. Current mean square distance 0.324092\u001b[0m\n",
      "\u001b[34m[12/05/2023 10:50:34 INFO 139678672475968] local kmeans attempt #2. Current mean square distance 0.373430\u001b[0m\n",
      "\u001b[34m[12/05/2023 10:50:34 INFO 139678672475968] local kmeans attempt #3. Current mean square distance 0.351853\u001b[0m\n",
      "\u001b[34m[12/05/2023 10:50:34 INFO 139678672475968] local kmeans attempt #4. Current mean square distance 0.307019\u001b[0m\n",
      "\u001b[34m[12/05/2023 10:50:34 INFO 139678672475968] local kmeans attempt #5. Current mean square distance 0.339247\u001b[0m\n",
      "\u001b[34m[12/05/2023 10:50:34 INFO 139678672475968] local kmeans attempt #6. Current mean square distance 0.350524\u001b[0m\n",
      "\u001b[34m[12/05/2023 10:50:34 INFO 139678672475968] local kmeans attempt #7. Current mean square distance 0.328421\u001b[0m\n",
      "\u001b[34m[12/05/2023 10:50:34 INFO 139678672475968] local kmeans attempt #8. Current mean square distance 0.397005\u001b[0m\n",
      "\u001b[34m[12/05/2023 10:50:34 INFO 139678672475968] local kmeans attempt #9. Current mean square distance 0.324346\u001b[0m\n",
      "\u001b[34m[12/05/2023 10:50:34 INFO 139678672475968] finished shrinking process. Mean Square Distance = 0\u001b[0m\n",
      "\u001b[34m[12/05/2023 10:50:34 INFO 139678672475968] #quality_metric: host=algo-1, train msd <loss>=0.30701854825019836\u001b[0m\n",
      "\u001b[34m[12/05/2023 10:50:34 INFO 139678672475968] collect from kv store took: 24.6642%, (0.007058 secs)\u001b[0m\n",
      "\u001b[34m[12/05/2023 10:50:34 INFO 139678672475968] splitting centers key-value pair took: 24.0727%, (0.006889 secs)\u001b[0m\n",
      "\u001b[34m[12/05/2023 10:50:34 INFO 139678672475968] batch data loading with context took: 17.1482%, (0.004907 secs)\u001b[0m\n",
      "\u001b[34m[12/05/2023 10:50:34 INFO 139678672475968] compute all data-center distances: inner product took: 9.9388%, (0.002844 secs)\u001b[0m\n",
      "\u001b[34m[12/05/2023 10:50:34 INFO 139678672475968] predict compute msd took: 8.2767%, (0.002368 secs)\u001b[0m\n",
      "\u001b[34m[12/05/2023 10:50:34 INFO 139678672475968] compute all data-center distances: point norm took: 4.1917%, (0.001199 secs)\u001b[0m\n",
      "\u001b[34m[12/05/2023 10:50:34 INFO 139678672475968] gradient: cluster size  took: 4.0692%, (0.001164 secs)\u001b[0m\n",
      "\u001b[34m[12/05/2023 10:50:34 INFO 139678672475968] gradient: cluster center took: 3.3568%, (0.000961 secs)\u001b[0m\n",
      "\u001b[34m[12/05/2023 10:50:34 INFO 139678672475968] update state and report convergance took: 2.2171%, (0.000634 secs)\u001b[0m\n",
      "\u001b[34m[12/05/2023 10:50:34 INFO 139678672475968] update set-up time took: 0.7432%, (0.000213 secs)\u001b[0m\n",
      "\u001b[34m[12/05/2023 10:50:34 INFO 139678672475968] gradient: one_hot took: 0.7182%, (0.000206 secs)\u001b[0m\n",
      "\u001b[34m[12/05/2023 10:50:34 INFO 139678672475968] compute all data-center distances: center norm took: 0.5416%, (0.000155 secs)\u001b[0m\n",
      "\u001b[34m[12/05/2023 10:50:34 INFO 139678672475968] predict minus dist took: 0.0617%, (0.000018 secs)\u001b[0m\n",
      "\u001b[34m[12/05/2023 10:50:34 INFO 139678672475968] TOTAL took: 0.028615951538085938\u001b[0m\n",
      "\u001b[34m[12/05/2023 10:50:34 INFO 139678672475968] Number of GPUs being used: 0\u001b[0m\n",
      "\u001b[34m#metrics {\"StartTime\": 1701773434.559493, \"EndTime\": 1701773434.8238497, \"Dimensions\": {\"Algorithm\": \"AWS/KMeansWebscale\", \"Host\": \"algo-1\", \"Operation\": \"training\"}, \"Metrics\": {\"initialize.time\": {\"sum\": 14.36758041381836, \"count\": 1, \"min\": 14.36758041381836, \"max\": 14.36758041381836}, \"epochs\": {\"sum\": 1.0, \"count\": 1, \"min\": 1, \"max\": 1}, \"update.time\": {\"sum\": 22.27020263671875, \"count\": 1, \"min\": 22.27020263671875, \"max\": 22.27020263671875}, \"_shrink.time\": {\"sum\": 219.47622299194336, \"count\": 1, \"min\": 219.47622299194336, \"max\": 219.47622299194336}, \"finalize.time\": {\"sum\": 221.14801406860352, \"count\": 1, \"min\": 221.14801406860352, \"max\": 221.14801406860352}, \"model.serialize.time\": {\"sum\": 0.1819133758544922, \"count\": 1, \"min\": 0.1819133758544922, \"max\": 0.1819133758544922}}}\u001b[0m\n",
      "\u001b[34m[12/05/2023 10:50:34 INFO 139678672475968] Test data is not provided.\u001b[0m\n",
      "\u001b[34m#metrics {\"StartTime\": 1701773434.8239772, \"EndTime\": 1701773434.8242102, \"Dimensions\": {\"Algorithm\": \"AWS/KMeansWebscale\", \"Host\": \"algo-1\", \"Operation\": \"training\"}, \"Metrics\": {\"setuptime\": {\"sum\": 2.0842552185058594, \"count\": 1, \"min\": 2.0842552185058594, \"max\": 2.0842552185058594}, \"totaltime\": {\"sum\": 311.3999366760254, \"count\": 1, \"min\": 311.3999366760254, \"max\": 311.3999366760254}}}\u001b[0m\n",
      "\n",
      "2023-12-05 10:50:52 Uploading - Uploading generated training model\n",
      "2023-12-05 10:50:52 Completed - Training job completed\n",
      "Training seconds: 132\n",
      "Billable seconds: 132\n"
     ]
    }
   ],
   "source": [
    "kmeans.fit(kmeans.record_set(data_train.values))"
   ]
  },
  {
   "cell_type": "code",
   "execution_count": 5,
   "id": "865dee10",
   "metadata": {},
   "outputs": [
    {
     "name": "stderr",
     "output_type": "stream",
     "text": [
      "INFO:sagemaker.image_uris:Same images used for training and inference. Defaulting to image scope: inference.\n",
      "INFO:sagemaker.image_uris:Ignoring unnecessary instance type: None.\n",
      "INFO:sagemaker:Creating model with name: kmeans-2023-12-05-10-51-39-756\n",
      "INFO:sagemaker:Creating endpoint-config with name kmeans-2023-12-05-10-51-39-756\n",
      "INFO:sagemaker:Creating endpoint with name kmeans-2023-12-05-10-51-39-756\n"
     ]
    },
    {
     "name": "stdout",
     "output_type": "stream",
     "text": [
      "-------!"
     ]
    }
   ],
   "source": [
    "kmeans_predictor = kmeans.deploy(initial_instance_count=1, \n",
    "                                 instance_type='ml.c4.xlarge')"
   ]
  },
  {
   "cell_type": "code",
   "execution_count": 6,
   "id": "27e26d85",
   "metadata": {},
   "outputs": [],
   "source": [
    "result = kmeans_predictor.predict(data_train.values[0:len(data_train)])\n",
    "\n",
    "cluster_labels = [r.label['closest_cluster'].float32_tensor.values[0] for r in result]"
   ]
  },
  {
   "cell_type": "code",
   "execution_count": 7,
   "id": "b14a02be",
   "metadata": {},
   "outputs": [
    {
     "name": "stderr",
     "output_type": "stream",
     "text": [
      "WARNING:sagemaker.deprecations:The endpoint attribute has been renamed in sagemaker>=2.\n",
      "See: https://sagemaker.readthedocs.io/en/stable/v2.html for details.\n"
     ]
    },
    {
     "name": "stdout",
     "output_type": "stream",
     "text": [
      "sagemaker.config INFO - Not applying SDK defaults from location: /etc/xdg/sagemaker/config.yaml\n",
      "sagemaker.config INFO - Not applying SDK defaults from location: /home/ec2-user/.config/sagemaker/config.yaml\n",
      "Silhouette Score: 0.42522937059402466\n"
     ]
    }
   ],
   "source": [
    "import pandas as pd\n",
    "from sagemaker import KMeansPredictor\n",
    "from sklearn.metrics import silhouette_score\n",
    "\n",
    "test_data = pd.read_csv('s3://gcimlteam11/k-means/test/test_k-means_data_new.csv', header=None)\n",
    "\n",
    "# 평가 데이터를 float32 형식으로 변환\n",
    "data_eval = test_data.astype('float32')\n",
    "\n",
    "# 클러스터 할당 받기\n",
    "kmeans_predictor = KMeansPredictor(endpoint_name=kmeans_predictor.endpoint)\n",
    "result = kmeans_predictor.predict(data_eval.values)\n",
    "\n",
    "# 클러스터 레이블 추출\n",
    "cluster_labels = [r.label['closest_cluster'].float32_tensor.values[0] for r in result]\n",
    "\n",
    "# 실루엣 점수 계산\n",
    "score = silhouette_score(data_eval, cluster_labels)\n",
    "\n",
    "print(f\"Silhouette Score: {score}\")"
   ]
  },
  {
   "cell_type": "code",
   "execution_count": 8,
   "id": "dcecac19",
   "metadata": {},
   "outputs": [
    {
     "name": "stdout",
     "output_type": "stream",
     "text": [
      "sagemaker.config INFO - Not applying SDK defaults from location: /etc/xdg/sagemaker/config.yaml\n",
      "sagemaker.config INFO - Not applying SDK defaults from location: /home/ec2-user/.config/sagemaker/config.yaml\n"
     ]
    },
    {
     "name": "stderr",
     "output_type": "stream",
     "text": [
      "WARNING:sagemaker.deprecations:The endpoint attribute has been renamed in sagemaker>=2.\n",
      "See: https://sagemaker.readthedocs.io/en/stable/v2.html for details.\n",
      "INFO:sagemaker:Deleting endpoint with name: kmeans-2023-12-05-10-51-39-756\n"
     ]
    }
   ],
   "source": [
    "sagemaker.Session().delete_endpoint(kmeans_predictor.endpoint)"
   ]
  },
  {
   "cell_type": "code",
   "execution_count": null,
   "id": "823300ff",
   "metadata": {},
   "outputs": [],
   "source": []
  }
 ],
 "metadata": {
  "kernelspec": {
   "display_name": "conda_python3",
   "language": "python",
   "name": "conda_python3"
  },
  "language_info": {
   "codemirror_mode": {
    "name": "ipython",
    "version": 3
   },
   "file_extension": ".py",
   "mimetype": "text/x-python",
   "name": "python",
   "nbconvert_exporter": "python",
   "pygments_lexer": "ipython3",
   "version": "3.10.13"
  }
 },
 "nbformat": 4,
 "nbformat_minor": 5
}
